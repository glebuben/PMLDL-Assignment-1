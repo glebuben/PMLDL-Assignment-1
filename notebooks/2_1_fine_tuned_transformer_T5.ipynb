{
 "nbformat": 4,
 "nbformat_minor": 0,
 "metadata": {
  "colab": {
   "provenance": [],
   "gpuType": "T4"
  },
  "kernelspec": {
   "name": "python3",
   "display_name": "Python 3"
  },
  "language_info": {
   "name": "python"
  },
  "accelerator": "GPU"
 },
 "cells": [
  {
   "cell_type": "code",
   "source": [
    "!pip install datasets transformers rouge-score nltk\n",
    "!pip install accelerate -U"
   ],
   "metadata": {
    "id": "eGyJAnEqUEZ7"
   },
   "execution_count": null,
   "outputs": []
  },
  {
   "cell_type": "code",
   "execution_count": 17,
   "metadata": {
    "colab": {
     "base_uri": "https://localhost:8080/"
    },
    "id": "QhZgxXfwSTkT",
    "outputId": "e33b7603-ab6c-421e-ba45-70cb9cd9c686"
   },
   "outputs": [
    {
     "output_type": "stream",
     "name": "stderr",
     "text": [
      "[nltk_data] Downloading package punkt to /root/nltk_data...\n",
      "[nltk_data]   Package punkt is already up-to-date!\n"
     ]
    },
    {
     "output_type": "execute_result",
     "data": {
      "text/plain": [
       "True"
      ]
     },
     "metadata": {},
     "execution_count": 17
    }
   ],
   "source": [
    "from datasets import load_dataset, load_metric\n",
    "import transformers\n",
    "from transformers import AutoTokenizer, AutoModelForSeq2SeqLM, DataCollatorForSeq2Seq, Seq2SeqTrainingArguments, Seq2SeqTrainer\n",
    "import pandas as pd\n",
    "from nltk.tokenize import word_tokenize\n",
    "import nltk\n",
    "from sklearn.model_selection import train_test_split\n",
    "from torchtext.vocab import build_vocab_from_iterator\n",
    "import torch\n",
    "import numpy as np\n",
    "import random\n",
    "\n",
    "nltk.download('punkt')"
   ]
  },
  {
   "cell_type": "code",
   "source": [
    "data_path='/content/preprocessed_ParaNMT-detox.csv'"
   ],
   "metadata": {
    "id": "_qGQTxPKTqjb"
   },
   "execution_count": 18,
   "outputs": []
  },
  {
   "cell_type": "code",
   "source": [
    "df = pd.read_csv(data_path, index_col=0)\n",
    "df"
   ],
   "metadata": {
    "colab": {
     "base_uri": "https://localhost:8080/",
     "height": 424
    },
    "id": "mJoVPP05TqMj",
    "outputId": "691fd0b9-8d74-4e6b-ed03-c24c9ce734e8"
   },
   "execution_count": 19,
   "outputs": [
    {
     "output_type": "execute_result",
     "data": {
      "text/plain": [
       "                                                reference  \\\n",
       "0       if Alkar floods her with her mental waste, it ...   \n",
       "1                             you're becoming disgusting.   \n",
       "4                              I have orders to kill her.   \n",
       "5       I'm not gonna have a child... ...with the same...   \n",
       "10      you'd probably want me to buy you some chocola...   \n",
       "...                                                   ...   \n",
       "577759               you're good, just a little immature.   \n",
       "577764                                execute him, Chief.   \n",
       "577770                 I am so crazy nuts about you guys.   \n",
       "577772  you didn't know that Estelle stole your fish f...   \n",
       "577776                                 I didn't fuck him.   \n",
       "\n",
       "                                              translation  \n",
       "0       If Alkar is flooding her with psychic waste, t...  \n",
       "1                               Now you're getting nasty.  \n",
       "4                        I've got orders to put her down.  \n",
       "5       I'm not going to breed kids with a genetic dis...  \n",
       "10      I suppose you want me to buy you flowers and c...  \n",
       "...                                                   ...  \n",
       "577759              They're okay, just a little immature.  \n",
       "577764                                   Carry on, Chief.  \n",
       "577770                       I'm so crazy about you guys.  \n",
       "577772  You didn't know that Estelle had stolen some f...  \n",
       "577776                               I did not screw him.  \n",
       "\n",
       "[265074 rows x 2 columns]"
      ],
      "text/html": [
       "\n",
       "  <div id=\"df-921f3bf4-1fa0-49c3-89d2-662ba8ceabc8\" class=\"colab-df-container\">\n",
       "    <div>\n",
       "<style scoped>\n",
       "    .dataframe tbody tr th:only-of-type {\n",
       "        vertical-align: middle;\n",
       "    }\n",
       "\n",
       "    .dataframe tbody tr th {\n",
       "        vertical-align: top;\n",
       "    }\n",
       "\n",
       "    .dataframe thead th {\n",
       "        text-align: right;\n",
       "    }\n",
       "</style>\n",
       "<table border=\"1\" class=\"dataframe\">\n",
       "  <thead>\n",
       "    <tr style=\"text-align: right;\">\n",
       "      <th></th>\n",
       "      <th>reference</th>\n",
       "      <th>translation</th>\n",
       "    </tr>\n",
       "  </thead>\n",
       "  <tbody>\n",
       "    <tr>\n",
       "      <th>0</th>\n",
       "      <td>if Alkar floods her with her mental waste, it ...</td>\n",
       "      <td>If Alkar is flooding her with psychic waste, t...</td>\n",
       "    </tr>\n",
       "    <tr>\n",
       "      <th>1</th>\n",
       "      <td>you're becoming disgusting.</td>\n",
       "      <td>Now you're getting nasty.</td>\n",
       "    </tr>\n",
       "    <tr>\n",
       "      <th>4</th>\n",
       "      <td>I have orders to kill her.</td>\n",
       "      <td>I've got orders to put her down.</td>\n",
       "    </tr>\n",
       "    <tr>\n",
       "      <th>5</th>\n",
       "      <td>I'm not gonna have a child... ...with the same...</td>\n",
       "      <td>I'm not going to breed kids with a genetic dis...</td>\n",
       "    </tr>\n",
       "    <tr>\n",
       "      <th>10</th>\n",
       "      <td>you'd probably want me to buy you some chocola...</td>\n",
       "      <td>I suppose you want me to buy you flowers and c...</td>\n",
       "    </tr>\n",
       "    <tr>\n",
       "      <th>...</th>\n",
       "      <td>...</td>\n",
       "      <td>...</td>\n",
       "    </tr>\n",
       "    <tr>\n",
       "      <th>577759</th>\n",
       "      <td>you're good, just a little immature.</td>\n",
       "      <td>They're okay, just a little immature.</td>\n",
       "    </tr>\n",
       "    <tr>\n",
       "      <th>577764</th>\n",
       "      <td>execute him, Chief.</td>\n",
       "      <td>Carry on, Chief.</td>\n",
       "    </tr>\n",
       "    <tr>\n",
       "      <th>577770</th>\n",
       "      <td>I am so crazy nuts about you guys.</td>\n",
       "      <td>I'm so crazy about you guys.</td>\n",
       "    </tr>\n",
       "    <tr>\n",
       "      <th>577772</th>\n",
       "      <td>you didn't know that Estelle stole your fish f...</td>\n",
       "      <td>You didn't know that Estelle had stolen some f...</td>\n",
       "    </tr>\n",
       "    <tr>\n",
       "      <th>577776</th>\n",
       "      <td>I didn't fuck him.</td>\n",
       "      <td>I did not screw him.</td>\n",
       "    </tr>\n",
       "  </tbody>\n",
       "</table>\n",
       "<p>265074 rows × 2 columns</p>\n",
       "</div>\n",
       "    <div class=\"colab-df-buttons\">\n",
       "\n",
       "  <div class=\"colab-df-container\">\n",
       "    <button class=\"colab-df-convert\" onclick=\"convertToInteractive('df-921f3bf4-1fa0-49c3-89d2-662ba8ceabc8')\"\n",
       "            title=\"Convert this dataframe to an interactive table.\"\n",
       "            style=\"display:none;\">\n",
       "\n",
       "  <svg xmlns=\"http://www.w3.org/2000/svg\" height=\"24px\" viewBox=\"0 -960 960 960\">\n",
       "    <path d=\"M120-120v-720h720v720H120Zm60-500h600v-160H180v160Zm220 220h160v-160H400v160Zm0 220h160v-160H400v160ZM180-400h160v-160H180v160Zm440 0h160v-160H620v160ZM180-180h160v-160H180v160Zm440 0h160v-160H620v160Z\"/>\n",
       "  </svg>\n",
       "    </button>\n",
       "\n",
       "  <style>\n",
       "    .colab-df-container {\n",
       "      display:flex;\n",
       "      gap: 12px;\n",
       "    }\n",
       "\n",
       "    .colab-df-convert {\n",
       "      background-color: #E8F0FE;\n",
       "      border: none;\n",
       "      border-radius: 50%;\n",
       "      cursor: pointer;\n",
       "      display: none;\n",
       "      fill: #1967D2;\n",
       "      height: 32px;\n",
       "      padding: 0 0 0 0;\n",
       "      width: 32px;\n",
       "    }\n",
       "\n",
       "    .colab-df-convert:hover {\n",
       "      background-color: #E2EBFA;\n",
       "      box-shadow: 0px 1px 2px rgba(60, 64, 67, 0.3), 0px 1px 3px 1px rgba(60, 64, 67, 0.15);\n",
       "      fill: #174EA6;\n",
       "    }\n",
       "\n",
       "    .colab-df-buttons div {\n",
       "      margin-bottom: 4px;\n",
       "    }\n",
       "\n",
       "    [theme=dark] .colab-df-convert {\n",
       "      background-color: #3B4455;\n",
       "      fill: #D2E3FC;\n",
       "    }\n",
       "\n",
       "    [theme=dark] .colab-df-convert:hover {\n",
       "      background-color: #434B5C;\n",
       "      box-shadow: 0px 1px 3px 1px rgba(0, 0, 0, 0.15);\n",
       "      filter: drop-shadow(0px 1px 2px rgba(0, 0, 0, 0.3));\n",
       "      fill: #FFFFFF;\n",
       "    }\n",
       "  </style>\n",
       "\n",
       "    <script>\n",
       "      const buttonEl =\n",
       "        document.querySelector('#df-921f3bf4-1fa0-49c3-89d2-662ba8ceabc8 button.colab-df-convert');\n",
       "      buttonEl.style.display =\n",
       "        google.colab.kernel.accessAllowed ? 'block' : 'none';\n",
       "\n",
       "      async function convertToInteractive(key) {\n",
       "        const element = document.querySelector('#df-921f3bf4-1fa0-49c3-89d2-662ba8ceabc8');\n",
       "        const dataTable =\n",
       "          await google.colab.kernel.invokeFunction('convertToInteractive',\n",
       "                                                    [key], {});\n",
       "        if (!dataTable) return;\n",
       "\n",
       "        const docLinkHtml = 'Like what you see? Visit the ' +\n",
       "          '<a target=\"_blank\" href=https://colab.research.google.com/notebooks/data_table.ipynb>data table notebook</a>'\n",
       "          + ' to learn more about interactive tables.';\n",
       "        element.innerHTML = '';\n",
       "        dataTable['output_type'] = 'display_data';\n",
       "        await google.colab.output.renderOutput(dataTable, element);\n",
       "        const docLink = document.createElement('div');\n",
       "        docLink.innerHTML = docLinkHtml;\n",
       "        element.appendChild(docLink);\n",
       "      }\n",
       "    </script>\n",
       "  </div>\n",
       "\n",
       "\n",
       "<div id=\"df-20c38b64-3ad9-4964-9adb-c2de86c529d3\">\n",
       "  <button class=\"colab-df-quickchart\" onclick=\"quickchart('df-20c38b64-3ad9-4964-9adb-c2de86c529d3')\"\n",
       "            title=\"Suggest charts.\"\n",
       "            style=\"display:none;\">\n",
       "\n",
       "<svg xmlns=\"http://www.w3.org/2000/svg\" height=\"24px\"viewBox=\"0 0 24 24\"\n",
       "     width=\"24px\">\n",
       "    <g>\n",
       "        <path d=\"M19 3H5c-1.1 0-2 .9-2 2v14c0 1.1.9 2 2 2h14c1.1 0 2-.9 2-2V5c0-1.1-.9-2-2-2zM9 17H7v-7h2v7zm4 0h-2V7h2v10zm4 0h-2v-4h2v4z\"/>\n",
       "    </g>\n",
       "</svg>\n",
       "  </button>\n",
       "\n",
       "<style>\n",
       "  .colab-df-quickchart {\n",
       "      --bg-color: #E8F0FE;\n",
       "      --fill-color: #1967D2;\n",
       "      --hover-bg-color: #E2EBFA;\n",
       "      --hover-fill-color: #174EA6;\n",
       "      --disabled-fill-color: #AAA;\n",
       "      --disabled-bg-color: #DDD;\n",
       "  }\n",
       "\n",
       "  [theme=dark] .colab-df-quickchart {\n",
       "      --bg-color: #3B4455;\n",
       "      --fill-color: #D2E3FC;\n",
       "      --hover-bg-color: #434B5C;\n",
       "      --hover-fill-color: #FFFFFF;\n",
       "      --disabled-bg-color: #3B4455;\n",
       "      --disabled-fill-color: #666;\n",
       "  }\n",
       "\n",
       "  .colab-df-quickchart {\n",
       "    background-color: var(--bg-color);\n",
       "    border: none;\n",
       "    border-radius: 50%;\n",
       "    cursor: pointer;\n",
       "    display: none;\n",
       "    fill: var(--fill-color);\n",
       "    height: 32px;\n",
       "    padding: 0;\n",
       "    width: 32px;\n",
       "  }\n",
       "\n",
       "  .colab-df-quickchart:hover {\n",
       "    background-color: var(--hover-bg-color);\n",
       "    box-shadow: 0 1px 2px rgba(60, 64, 67, 0.3), 0 1px 3px 1px rgba(60, 64, 67, 0.15);\n",
       "    fill: var(--button-hover-fill-color);\n",
       "  }\n",
       "\n",
       "  .colab-df-quickchart-complete:disabled,\n",
       "  .colab-df-quickchart-complete:disabled:hover {\n",
       "    background-color: var(--disabled-bg-color);\n",
       "    fill: var(--disabled-fill-color);\n",
       "    box-shadow: none;\n",
       "  }\n",
       "\n",
       "  .colab-df-spinner {\n",
       "    border: 2px solid var(--fill-color);\n",
       "    border-color: transparent;\n",
       "    border-bottom-color: var(--fill-color);\n",
       "    animation:\n",
       "      spin 1s steps(1) infinite;\n",
       "  }\n",
       "\n",
       "  @keyframes spin {\n",
       "    0% {\n",
       "      border-color: transparent;\n",
       "      border-bottom-color: var(--fill-color);\n",
       "      border-left-color: var(--fill-color);\n",
       "    }\n",
       "    20% {\n",
       "      border-color: transparent;\n",
       "      border-left-color: var(--fill-color);\n",
       "      border-top-color: var(--fill-color);\n",
       "    }\n",
       "    30% {\n",
       "      border-color: transparent;\n",
       "      border-left-color: var(--fill-color);\n",
       "      border-top-color: var(--fill-color);\n",
       "      border-right-color: var(--fill-color);\n",
       "    }\n",
       "    40% {\n",
       "      border-color: transparent;\n",
       "      border-right-color: var(--fill-color);\n",
       "      border-top-color: var(--fill-color);\n",
       "    }\n",
       "    60% {\n",
       "      border-color: transparent;\n",
       "      border-right-color: var(--fill-color);\n",
       "    }\n",
       "    80% {\n",
       "      border-color: transparent;\n",
       "      border-right-color: var(--fill-color);\n",
       "      border-bottom-color: var(--fill-color);\n",
       "    }\n",
       "    90% {\n",
       "      border-color: transparent;\n",
       "      border-bottom-color: var(--fill-color);\n",
       "    }\n",
       "  }\n",
       "</style>\n",
       "\n",
       "  <script>\n",
       "    async function quickchart(key) {\n",
       "      const quickchartButtonEl =\n",
       "        document.querySelector('#' + key + ' button');\n",
       "      quickchartButtonEl.disabled = true;  // To prevent multiple clicks.\n",
       "      quickchartButtonEl.classList.add('colab-df-spinner');\n",
       "      try {\n",
       "        const charts = await google.colab.kernel.invokeFunction(\n",
       "            'suggestCharts', [key], {});\n",
       "      } catch (error) {\n",
       "        console.error('Error during call to suggestCharts:', error);\n",
       "      }\n",
       "      quickchartButtonEl.classList.remove('colab-df-spinner');\n",
       "      quickchartButtonEl.classList.add('colab-df-quickchart-complete');\n",
       "    }\n",
       "    (() => {\n",
       "      let quickchartButtonEl =\n",
       "        document.querySelector('#df-20c38b64-3ad9-4964-9adb-c2de86c529d3 button');\n",
       "      quickchartButtonEl.style.display =\n",
       "        google.colab.kernel.accessAllowed ? 'block' : 'none';\n",
       "    })();\n",
       "  </script>\n",
       "</div>\n",
       "    </div>\n",
       "  </div>\n"
      ]
     },
     "metadata": {},
     "execution_count": 19
    }
   ]
  },
  {
   "cell_type": "code",
   "source": [
    "UNK_IDX, PAD_IDX, BOS_IDX, EOS_IDX = 0, 1, 2, 3\n",
    "special_symbols = ['<unk>', '<pad>', '<bos>', '<eos>']"
   ],
   "metadata": {
    "id": "AqYc6_SmV56T"
   },
   "execution_count": 20,
   "outputs": []
  },
  {
   "cell_type": "code",
   "source": [
    "class CustomDataset(torch.utils.data.Dataset):\n",
    "    def __init__(self, dataframe: pd.DataFrame, vocab = None, max_size=100, tokenizer=None):\n",
    "        self.df = dataframe\n",
    "        self._preprocess()\n",
    "        self.vocab = vocab or self._create_vocab()\n",
    "\n",
    "    def _preprocess(self):\n",
    "        self.tokenized = self.df.copy()\n",
    "        self.tokenized['reference'] = self.df['reference'].apply(self._preprocess_text)\n",
    "        self.reference = self.tokenized['reference'].to_list()\n",
    "        self.tokenized['translation'] = self.df['translation'].apply(self._preprocess_text)\n",
    "        self.translation = self.tokenized['translation'].to_list()\n",
    "\n",
    "    def _preprocess_text(self, text: str) -> list[str]: # function for preprocessing dataframe\n",
    "        text = text.lower()\n",
    "        if not tokenizer == None:\n",
    "          tokenized = tokenizer(text)['input_ids']\n",
    "        else:\n",
    "          tokenized = word_tokenize(text)\n",
    "          tokenized.insert(0, '<bos>')\n",
    "          tokenized.append('<eos>')\n",
    "        return tokenized\n",
    "\n",
    "    def _create_vocab(self):\n",
    "        # creates vocabulary that is used for encoding\n",
    "        # the sequence of tokens (splitted sentence)\n",
    "        vocab = build_vocab_from_iterator(self.reference + self.translation, min_freq=2, specials=special_symbols)\n",
    "        vocab.set_default_index(UNK_IDX)\n",
    "        return vocab\n",
    "\n",
    "    def _get_reference(self, index: int) -> list:\n",
    "        # retrieves sentence from dataset by index\n",
    "        sent = self.reference[index]\n",
    "        if tokenizer == None:\n",
    "          return self.vocab(sent)\n",
    "        else:\n",
    "           return sent\n",
    "\n",
    "    def _get_translation(self, index: int) -> list:\n",
    "        # retrieves tags from dataset by index\n",
    "        trans = self.translation[index]\n",
    "        if tokenizer == None:\n",
    "          return self.vocab(trans)\n",
    "        else:\n",
    "           return trans\n",
    "\n",
    "    def __getitem__(self, index) -> tuple[list, list]:\n",
    "        return {\"input_ids\": self._get_reference(index), 'labels': self._get_translation(index)}\n",
    "\n",
    "\n",
    "    def __len__(self) -> int:\n",
    "        return len(self.reference)"
   ],
   "metadata": {
    "id": "-IFDBgntTQ6E"
   },
   "execution_count": 21,
   "outputs": []
  },
  {
   "cell_type": "code",
   "source": [
    "max_size=52"
   ],
   "metadata": {
    "id": "RRn8tsBZWG-E"
   },
   "execution_count": 22,
   "outputs": []
  },
  {
   "cell_type": "code",
   "source": [
    "def set_seeds(seed):\n",
    "    random.seed(seed)\n",
    "    np.random.seed(seed)\n",
    "    torch.manual_seed(seed)\n",
    "    torch.cuda.manual_seed(seed)\n",
    "    torch.backends.cudnn.deterministic = True\n",
    "    torch.backends.cudnn.benchmark = False"
   ],
   "metadata": {
    "id": "mN73TKonU_t9"
   },
   "execution_count": 24,
   "outputs": []
  },
  {
   "cell_type": "code",
   "source": [
    "seed = 123\n",
    "transformers.set_seed(seed)\n",
    "set_seeds(seed)\n",
    "VALIDATION_RATIO = 0.2\n",
    "train_dataframe, val_dataframe = train_test_split(df, test_size=VALIDATION_RATIO, random_state=seed)"
   ],
   "metadata": {
    "id": "jGrR1M1iVA5x"
   },
   "execution_count": 25,
   "outputs": []
  },
  {
   "cell_type": "code",
   "source": [
    "model_checkpoint = \"t5-small\"\n",
    "model= AutoModelForSeq2SeqLM.from_pretrained(model_checkpoint)\n",
    "tokenizer = AutoTokenizer.from_pretrained(model_checkpoint)"
   ],
   "metadata": {
    "id": "QEajmZz0U4t3"
   },
   "execution_count": 26,
   "outputs": []
  },
  {
   "cell_type": "code",
   "source": [
    "train_dataset = CustomDataset(train_dataframe, vocab=tokenizer.vocab, tokenizer=tokenizer)\n",
    "val_dataset = CustomDataset(val_dataframe, vocab=tokenizer.vocab, tokenizer=tokenizer)"
   ],
   "metadata": {
    "id": "7Bqzc4dhU2gh"
   },
   "execution_count": 27,
   "outputs": []
  },
  {
   "cell_type": "code",
   "source": [
    "batch_size = 16\n",
    "model_name = model_checkpoint.split(\"/\")[-1]\n",
    "args = Seq2SeqTrainingArguments(\n",
    "    f\"{model_name}-finetuned-xsum\",\n",
    "    evaluation_strategy = \"epoch\",\n",
    "    learning_rate=2e-3,\n",
    "    per_device_train_batch_size=batch_size,\n",
    "    per_device_eval_batch_size=batch_size,\n",
    "    weight_decay=0.01,\n",
    "    save_total_limit=3,\n",
    "    num_train_epochs=1,\n",
    "    predict_with_generate=True,\n",
    "    push_to_hub=False,\n",
    ")\n",
    "\n",
    "data_collator = DataCollatorForSeq2Seq(tokenizer, model=model)"
   ],
   "metadata": {
    "id": "6wd1PDJcVxmj"
   },
   "execution_count": 28,
   "outputs": []
  },
  {
   "cell_type": "code",
   "source": [
    "trainer = Seq2SeqTrainer(\n",
    "    model,\n",
    "    args,\n",
    "    train_dataset=train_dataset,\n",
    "    eval_dataset=val_dataset,\n",
    "    data_collator=data_collator,\n",
    "    tokenizer=tokenizer,\n",
    ")\n",
    "\n",
    "trainer.train()"
   ],
   "metadata": {
    "colab": {
     "base_uri": "https://localhost:8080/",
     "height": 179
    },
    "id": "3XLBN_RiYJGa",
    "outputId": "dd69d383-0509-47bb-a1cb-f3f25a2d415e"
   },
   "execution_count": 30,
   "outputs": [
    {
     "output_type": "stream",
     "name": "stderr",
     "text": [
      "You're using a T5TokenizerFast tokenizer. Please note that with a fast tokenizer, using the `__call__` method is faster than using a method to encode the text followed by a call to the `pad` method to get a padded encoding.\n"
     ]
    },
    {
     "output_type": "display_data",
     "data": {
      "text/plain": [
       "<IPython.core.display.HTML object>"
      ],
      "text/html": [
       "\n",
       "    <div>\n",
       "      \n",
       "      <progress value='13254' max='13254' style='width:300px; height:20px; vertical-align: middle;'></progress>\n",
       "      [13254/13254 26:38, Epoch 1/1]\n",
       "    </div>\n",
       "    <table border=\"1\" class=\"dataframe\">\n",
       "  <thead>\n",
       " <tr style=\"text-align: left;\">\n",
       "      <th>Epoch</th>\n",
       "      <th>Training Loss</th>\n",
       "      <th>Validation Loss</th>\n",
       "    </tr>\n",
       "  </thead>\n",
       "  <tbody>\n",
       "    <tr>\n",
       "      <td>1</td>\n",
       "      <td>1.538300</td>\n",
       "      <td>1.424736</td>\n",
       "    </tr>\n",
       "  </tbody>\n",
       "</table><p>"
      ]
     },
     "metadata": {}
    },
    {
     "output_type": "execute_result",
     "data": {
      "text/plain": [
       "TrainOutput(global_step=13254, training_loss=1.6640707522257432, metrics={'train_runtime': 1599.1424, 'train_samples_per_second': 132.608, 'train_steps_per_second': 8.288, 'total_flos': 2215013439111168.0, 'train_loss': 1.6640707522257432, 'epoch': 1.0})"
      ]
     },
     "metadata": {},
     "execution_count": 30
    }
   ]
  },
  {
   "cell_type": "code",
   "source": [
    "nltk.download('wordnet')"
   ],
   "metadata": {
    "colab": {
     "base_uri": "https://localhost:8080/"
    },
    "id": "XdddPDmXoodr",
    "outputId": "2111ff83-642b-4af8-f4ce-cb5f5b7936d0"
   },
   "execution_count": 107,
   "outputs": [
    {
     "output_type": "stream",
     "name": "stderr",
     "text": [
      "[nltk_data] Downloading package wordnet to /root/nltk_data...\n"
     ]
    },
    {
     "output_type": "execute_result",
     "data": {
      "text/plain": [
       "True"
      ]
     },
     "metadata": {},
     "execution_count": 107
    }
   ]
  },
  {
   "cell_type": "code",
   "source": [
    "import warnings\n",
    "from nltk.translate.bleu_score import sentence_bleu\n",
    "from nltk.translate.meteor_score import meteor_score\n",
    "\n",
    "warnings.filterwarnings('ignore')\n",
    "test = val_dataset\n",
    "count = 0\n",
    "candidate_corpus = []\n",
    "references_corpus = []\n",
    "for index in range(10):\n",
    "  device = 'cuda'\n",
    "  preds = model.generate(input_ids = torch.tensor(test[index][\"input_ids\"]).to(device).view(1,-1))\n",
    "\n",
    "  source = tokenizer.decode(np.array(test[index][\"input_ids\"]))[:-4]\n",
    "  prediction = tokenizer.decode(np.array(preds.cpu()[0]))[5:-4]\n",
    "  translation = tokenizer.decode(np.array(test[index][\"labels\"]))[:-4]\n",
    "\n",
    "  print('Source: ', source)\n",
    "  print('Prediction: ', prediction)\n",
    "  print('Translation: ', translation)\n",
    "  print('Bleu score: ', sentence_bleu([tokenizer.tokenize(prediction)], tokenizer.tokenize(translation)))\n",
    "  print('Meteor score: ', meteor_score([tokenizer.tokenize(prediction)], tokenizer.tokenize(translation)))\n",
    "  print()\n"
   ],
   "metadata": {
    "colab": {
     "base_uri": "https://localhost:8080/"
    },
    "id": "LVyLuBgaP1RG",
    "outputId": "8a89b5dd-57ec-42be-fdc1-cd84f78865ee"
   },
   "execution_count": 108,
   "outputs": [
    {
     "output_type": "stream",
     "name": "stdout",
     "text": [
      "Source:  until i hear back, it'd be damn stupid to fix on any plan. there's only one plan.\n",
      "Prediction:   until i hear back, it would be silly to fix any plan.\n",
      "Translation:  it would be silly to plan something until i hear the report.\n",
      "Bleu score:  0.4359765514726485\n",
      "Meteor score:  0.7205058516833988\n",
      "\n",
      "Source:  you didn't tell me you live at the top of the fucking globe.\n",
      "Prediction:   you didn't tell me you lived on the top of the globe.\n",
      "Translation:  you didn't tell me you were on top of the planet.\n",
      "Bleu score:  0.5181294220614273\n",
      "Meteor score:  0.7904548844146162\n",
      "\n",
      "Source:  that poor man's dead......and i'm all bent because the paper used my stupid sophomore photo.\n",
      "Prediction:   the poor guy is dead...... and i'm all bent because the paper used my sopho\n",
      "Translation:  the poor man is dead, and i tipped them all off because the press used my old photos.\n",
      "Bleu score:  3.504102319683875e-78\n",
      "Meteor score:  0.5035577449370552\n",
      "\n",
      "Source:  spanky: i hope you know what the hell you're doin'.\n",
      "Prediction:   i hope you know what you're doing.\n",
      "Translation:  i hope you know what you're doing.\n",
      "Bleu score:  1.0\n",
      "Meteor score:  0.9996243425995492\n",
      "\n",
      "Source:  shit, they killed kenny!\n",
      "Prediction:   they killed kenny!\n",
      "Translation:  oh, my god. they've killed kenny.\n",
      "Bleu score:  0.17395797375642233\n",
      "Meteor score:  0.7014492753623189\n",
      "\n",
      "Source:  but if it's just gone, the fuck's he gonna say?\n",
      "Prediction:   but if it's gone, what's he gonna say?\n",
      "Translation:  but if it's just gone, what can he say?\n",
      "Bleu score:  0.42104389635861716\n",
      "Meteor score:  0.6836432797971259\n",
      "\n",
      "Source:  the fruition of my deeply-laid plans to escape from that cursed ovarian bastille.\n",
      "Prediction:   the fruition of my deeply-laid plans to escape from the cursed\n",
      "Translation:  the execution of my elaborate plans to escape from the accursed ovarian bastille.\n",
      "Bleu score:  0.20217803037339238\n",
      "Meteor score:  0.4476472701149425\n",
      "\n",
      "Source:  the pig is in the pool?! fuck.\n",
      "Prediction:   the pig's in the pool?\n",
      "Translation:  the pig is in the pool?\n",
      "Bleu score:  0.4412484512922977\n",
      "Meteor score:  0.7773446457234581\n",
      "\n",
      "Source:  what will kill me...\n",
      "Prediction:   what kills me...\n",
      "Translation:  \"what does not kill me\"...\n",
      "Bleu score:  1.4256605770826504e-231\n",
      "Meteor score:  0.28301886792452824\n",
      "\n",
      "Source:  michael, why are you speaking pig latin incorrectly?\n",
      "Prediction:   michael, why are you talking pig latin wrongly?\n",
      "Translation:  michael, why do you speak impromptu latin?\n",
      "Bleu score:  0.34315019159021515\n",
      "Meteor score:  0.6511472717006315\n",
      "\n"
     ]
    }
   ]
  },
  {
   "cell_type": "markdown",
   "source": [
    "Let's compute bleu score for 1000 references"
   ],
   "metadata": {
    "id": "Mr5HVUh5jS1x"
   }
  },
  {
   "cell_type": "code",
   "source": [
    "test = val_dataset\n",
    "count = 0\n",
    "bleus = []\n",
    "meteors = []\n",
    "for index in range(1000):\n",
    "  device = 'cuda'\n",
    "  preds = model.generate(input_ids = torch.tensor(test[index][\"input_ids\"]).to(device).view(1,-1))\n",
    "\n",
    "  source = tokenizer.decode(np.array(test[index][\"input_ids\"]))[:-4]\n",
    "  prediction = tokenizer.decode(np.array(preds.cpu()[0]))[5:-4]\n",
    "  translation = tokenizer.decode(np.array(test[index][\"labels\"]))[:-4]\n",
    "\n",
    "  bleu = sentence_bleu([tokenizer.tokenize(prediction)], tokenizer.tokenize(translation))\n",
    "  meteor = meteor_score([tokenizer.tokenize(prediction)], tokenizer.tokenize(translation))\n",
    "  bleus.append(bleu)\n",
    "  meteors.append(meteor)"
   ],
   "metadata": {
    "id": "uolXdy3ce17j"
   },
   "execution_count": 114,
   "outputs": []
  },
  {
   "cell_type": "code",
   "source": [
    "import matplotlib.pyplot as plt\n",
    "def visualize_metric(metric, name):\n",
    "  counts, bins = np.histogram(metric)\n",
    "  plt.title(f'{name} scores for 1000 samples histogram')\n",
    "  plt.hist(bins[:-1], weights=counts)"
   ],
   "metadata": {
    "id": "h2ne5TAOkIFz"
   },
   "execution_count": 111,
   "outputs": []
  },
  {
   "cell_type": "code",
   "source": [
    "visualize_metric(bleus, 'bleu')"
   ],
   "metadata": {
    "colab": {
     "base_uri": "https://localhost:8080/",
     "height": 452
    },
    "id": "K_-Ewiz6kXVt",
    "outputId": "bc5afb54-71d0-4f4a-999f-08e71fa5b620"
   },
   "execution_count": 115,
   "outputs": [
    {
     "output_type": "display_data",
     "data": {
      "text/plain": [
       "<Figure size 640x480 with 1 Axes>"
      ],
      "image/png": "[encoded data removed]"
     },
     "metadata": {}
    }
   ]
  },
  {
   "cell_type": "code",
   "source": [
    "visualize_metric(meteors, 'meteor')"
   ],
   "metadata": {
    "colab": {
     "base_uri": "https://localhost:8080/",
     "height": 452
    },
    "id": "58UySbDmo8Cj",
    "outputId": "42965239-ac55-4927-db1b-4321551e3359"
   },
   "execution_count": 116,
   "outputs": [
    {
     "output_type": "display_data",
     "data": {
      "text/plain": [
       "<Figure size 640x480 with 1 Axes>"
      ],
      "image/png": "[encoded data removed]"
     },
     "metadata": {}
    }
   ]
  }
 ]
}
