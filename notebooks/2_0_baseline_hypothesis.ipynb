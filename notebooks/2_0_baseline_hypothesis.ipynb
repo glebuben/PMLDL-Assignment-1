{
 "metadata": {
  "kernelspec": {
   "language": "python",
   "display_name": "Python 3",
   "name": "python3"
  },
  "language_info": {
   "name": "python",
   "version": "3.10.12",
   "mimetype": "text/x-python",
   "codemirror_mode": {
    "name": "ipython",
    "version": 3
   },
   "pygments_lexer": "ipython3",
   "nbconvert_exporter": "python",
   "file_extension": ".py"
  }
 },
 "nbformat_minor": 4,
 "nbformat": 4,
 "cells": [
  {
   "cell_type": "code",
   "source": "# imports\nimport pandas as pd\nfrom matplotlib import pyplot as plt\n\nfrom nltk.tokenize import word_tokenize\nfrom sklearn.model_selection import train_test_split\nimport random\nimport nltk\nimport numpy as np\nimport torch\nfrom torchtext.vocab import build_vocab_from_iterator\nimport torch.nn as nn\nimport torch.optim as optim\nimport spacy\n# from utils import translate_sentence, bleu, save_checkpoint, load_checkpoint\nfrom torch.utils.tensorboard import SummaryWriter\nfrom tqdm.autonotebook import tqdm\nfrom torchtext.data.metrics import bleu_score\nimport sys\n\n\n# downloading package for tokenization\nnltk.download('punkt')",
   "metadata": {
    "execution": {
     "iopub.status.busy": "2023-11-05T16:42:39.497138Z",
     "iopub.execute_input": "2023-11-05T16:42:39.498011Z",
     "iopub.status.idle": "2023-11-05T16:42:39.688458Z",
     "shell.execute_reply.started": "2023-11-05T16:42:39.497972Z",
     "shell.execute_reply": "2023-11-05T16:42:39.687530Z"
    },
    "trusted": true
   },
   "execution_count": 86,
   "outputs": [
    {
     "name": "stdout",
     "text": "[nltk_data] Downloading package punkt to /usr/share/nltk_data...\n[nltk_data]   Package punkt is already up-to-date!\n",
     "output_type": "stream"
    },
    {
     "execution_count": 86,
     "output_type": "execute_result",
     "data": {
      "text/plain": "True"
     },
     "metadata": {}
    }
   ]
  },
  {
   "cell_type": "code",
   "source": "import os\nfor dirname, _, filenames in os.walk('/kaggle/'):  \n    for filename in filenames:  \n        print(os.path.join(dirname, filename))",
   "metadata": {
    "execution": {
     "iopub.status.busy": "2023-11-05T16:42:39.690609Z",
     "iopub.execute_input": "2023-11-05T16:42:39.690967Z",
     "iopub.status.idle": "2023-11-05T16:42:39.701165Z",
     "shell.execute_reply.started": "2023-11-05T16:42:39.690932Z",
     "shell.execute_reply": "2023-11-05T16:42:39.700201Z"
    },
    "trusted": true
   },
   "execution_count": 87,
   "outputs": [
    {
     "name": "stdout",
     "text": "/kaggle/lib/kaggle/gcp.py\n/kaggle/input/preprocessed3/preprocessed_ParaNMT-detox.csv\n/kaggle/working/best.pt\n/kaggle/working/runs/loss_plot/events.out.tfevents.1699197501.ad0a4545673a.32.0\n/kaggle/working/runs/loss_plot/events.out.tfevents.1699199130.ad0a4545673a.32.1\n",
     "output_type": "stream"
    }
   ]
  },
  {
   "cell_type": "code",
   "source": "UNK_IDX, PAD_IDX, BOS_IDX, EOS_IDX = 0, 1, 2, 3\nspecial_symbols = ['<unk>', '<pad>', '<bos>', '<eos>']\n\ndef preprocess_text(text: str) -> list[str]: # function for preprocessing dataframe\n    text = text.lower()\n    tokenized = word_tokenize(text, language='english')\n    tokenized.insert(0, '<bos>')\n    tokenized.append('<eos>')\n    return tokenized",
   "metadata": {
    "execution": {
     "iopub.status.busy": "2023-11-05T16:42:39.702330Z",
     "iopub.execute_input": "2023-11-05T16:42:39.702614Z",
     "iopub.status.idle": "2023-11-05T16:42:39.712076Z",
     "shell.execute_reply.started": "2023-11-05T16:42:39.702590Z",
     "shell.execute_reply": "2023-11-05T16:42:39.711084Z"
    },
    "trusted": true
   },
   "execution_count": 88,
   "outputs": []
  },
  {
   "cell_type": "code",
   "source": "data_path = '/kaggle/input/preprocessed3/preprocessed_ParaNMT-detox.csv'",
   "metadata": {
    "execution": {
     "iopub.status.busy": "2023-11-05T16:42:39.714108Z",
     "iopub.execute_input": "2023-11-05T16:42:39.714368Z",
     "iopub.status.idle": "2023-11-05T16:42:39.723838Z",
     "shell.execute_reply.started": "2023-11-05T16:42:39.714344Z",
     "shell.execute_reply": "2023-11-05T16:42:39.723055Z"
    },
    "trusted": true
   },
   "execution_count": 89,
   "outputs": []
  },
  {
   "cell_type": "code",
   "source": "df = pd.read_csv(data_path, index_col=0)\ndf",
   "metadata": {
    "execution": {
     "iopub.status.busy": "2023-11-05T16:42:39.724922Z",
     "iopub.execute_input": "2023-11-05T16:42:39.725324Z",
     "iopub.status.idle": "2023-11-05T16:42:40.720860Z",
     "shell.execute_reply.started": "2023-11-05T16:42:39.725293Z",
     "shell.execute_reply": "2023-11-05T16:42:40.719683Z"
    },
    "trusted": true
   },
   "execution_count": 90,
   "outputs": [
    {
     "execution_count": 90,
     "output_type": "execute_result",
     "data": {
      "text/plain": "                                                reference  \\\n0       if Alkar floods her with her mental waste, it ...   \n1                             you're becoming disgusting.   \n4                              I have orders to kill her.   \n5       I'm not gonna have a child... ...with the same...   \n10      you'd probably want me to buy you some chocola...   \n...                                                   ...   \n577759               you're good, just a little immature.   \n577764                                execute him, Chief.   \n577770                 I am so crazy nuts about you guys.   \n577772  you didn't know that Estelle stole your fish f...   \n577776                                 I didn't fuck him.   \n\n                                              translation  \n0       If Alkar is flooding her with psychic waste, t...  \n1                               Now you're getting nasty.  \n4                        I've got orders to put her down.  \n5       I'm not going to breed kids with a genetic dis...  \n10      I suppose you want me to buy you flowers and c...  \n...                                                   ...  \n577759              They're okay, just a little immature.  \n577764                                   Carry on, Chief.  \n577770                       I'm so crazy about you guys.  \n577772  You didn't know that Estelle had stolen some f...  \n577776                               I did not screw him.  \n\n[265074 rows x 2 columns]",
      "text/html": "<div>\n<style scoped>\n    .dataframe tbody tr th:only-of-type {\n        vertical-align: middle;\n    }\n\n    .dataframe tbody tr th {\n        vertical-align: top;\n    }\n\n    .dataframe thead th {\n        text-align: right;\n    }\n</style>\n<table border=\"1\" class=\"dataframe\">\n  <thead>\n    <tr style=\"text-align: right;\">\n      <th></th>\n      <th>reference</th>\n      <th>translation</th>\n    </tr>\n  </thead>\n  <tbody>\n    <tr>\n      <th>0</th>\n      <td>if Alkar floods her with her mental waste, it ...</td>\n      <td>If Alkar is flooding her with psychic waste, t...</td>\n    </tr>\n    <tr>\n      <th>1</th>\n      <td>you're becoming disgusting.</td>\n      <td>Now you're getting nasty.</td>\n    </tr>\n    <tr>\n      <th>4</th>\n      <td>I have orders to kill her.</td>\n      <td>I've got orders to put her down.</td>\n    </tr>\n    <tr>\n      <th>5</th>\n      <td>I'm not gonna have a child... ...with the same...</td>\n      <td>I'm not going to breed kids with a genetic dis...</td>\n    </tr>\n    <tr>\n      <th>10</th>\n      <td>you'd probably want me to buy you some chocola...</td>\n      <td>I suppose you want me to buy you flowers and c...</td>\n    </tr>\n    <tr>\n      <th>...</th>\n      <td>...</td>\n      <td>...</td>\n    </tr>\n    <tr>\n      <th>577759</th>\n      <td>you're good, just a little immature.</td>\n      <td>They're okay, just a little immature.</td>\n    </tr>\n    <tr>\n      <th>577764</th>\n      <td>execute him, Chief.</td>\n      <td>Carry on, Chief.</td>\n    </tr>\n    <tr>\n      <th>577770</th>\n      <td>I am so crazy nuts about you guys.</td>\n      <td>I'm so crazy about you guys.</td>\n    </tr>\n    <tr>\n      <th>577772</th>\n      <td>you didn't know that Estelle stole your fish f...</td>\n      <td>You didn't know that Estelle had stolen some f...</td>\n    </tr>\n    <tr>\n      <th>577776</th>\n      <td>I didn't fuck him.</td>\n      <td>I did not screw him.</td>\n    </tr>\n  </tbody>\n</table>\n<p>265074 rows × 2 columns</p>\n</div>"
     },
     "metadata": {}
    }
   ]
  },
  {
   "cell_type": "code",
   "source": "tokenized = df.copy()\ntokenized['reference'] = df['reference'].apply(preprocess_text)\ntokenized['translation'] = df['translation'].apply(preprocess_text)\ntokenized",
   "metadata": {
    "execution": {
     "iopub.status.busy": "2023-11-05T16:42:40.725224Z",
     "iopub.execute_input": "2023-11-05T16:42:40.725550Z",
     "iopub.status.idle": "2023-11-05T16:44:14.159189Z",
     "shell.execute_reply.started": "2023-11-05T16:42:40.725523Z",
     "shell.execute_reply": "2023-11-05T16:44:14.158112Z"
    },
    "trusted": true
   },
   "execution_count": 91,
   "outputs": [
    {
     "execution_count": 91,
     "output_type": "execute_result",
     "data": {
      "text/plain": "                                                reference  \\\n0       [<bos>, if, alkar, floods, her, with, her, men...   \n1       [<bos>, you, 're, becoming, disgusting, ., <eos>]   \n4       [<bos>, i, have, orders, to, kill, her, ., <eos>]   \n5       [<bos>, i, 'm, not, gon, na, have, a, child, ....   \n10      [<bos>, you, 'd, probably, want, me, to, buy, ...   \n...                                                   ...   \n577759  [<bos>, you, 're, good, ,, just, a, little, im...   \n577764          [<bos>, execute, him, ,, chief, ., <eos>]   \n577770  [<bos>, i, am, so, crazy, nuts, about, you, gu...   \n577772  [<bos>, you, did, n't, know, that, estelle, st...   \n577776          [<bos>, i, did, n't, fuck, him, ., <eos>]   \n\n                                              translation  \n0       [<bos>, if, alkar, is, flooding, her, with, ps...  \n1        [<bos>, now, you, 're, getting, nasty, ., <eos>]  \n4       [<bos>, i, 've, got, orders, to, put, her, dow...  \n5       [<bos>, i, 'm, not, going, to, breed, kids, wi...  \n10      [<bos>, i, suppose, you, want, me, to, buy, yo...  \n...                                                   ...  \n577759  [<bos>, they, 're, okay, ,, just, a, little, i...  \n577764             [<bos>, carry, on, ,, chief, ., <eos>]  \n577770  [<bos>, i, 'm, so, crazy, about, you, guys, .,...  \n577772  [<bos>, you, did, n't, know, that, estelle, ha...  \n577776         [<bos>, i, did, not, screw, him, ., <eos>]  \n\n[265074 rows x 2 columns]",
      "text/html": "<div>\n<style scoped>\n    .dataframe tbody tr th:only-of-type {\n        vertical-align: middle;\n    }\n\n    .dataframe tbody tr th {\n        vertical-align: top;\n    }\n\n    .dataframe thead th {\n        text-align: right;\n    }\n</style>\n<table border=\"1\" class=\"dataframe\">\n  <thead>\n    <tr style=\"text-align: right;\">\n      <th></th>\n      <th>reference</th>\n      <th>translation</th>\n    </tr>\n  </thead>\n  <tbody>\n    <tr>\n      <th>0</th>\n      <td>[&lt;bos&gt;, if, alkar, floods, her, with, her, men...</td>\n      <td>[&lt;bos&gt;, if, alkar, is, flooding, her, with, ps...</td>\n    </tr>\n    <tr>\n      <th>1</th>\n      <td>[&lt;bos&gt;, you, 're, becoming, disgusting, ., &lt;eos&gt;]</td>\n      <td>[&lt;bos&gt;, now, you, 're, getting, nasty, ., &lt;eos&gt;]</td>\n    </tr>\n    <tr>\n      <th>4</th>\n      <td>[&lt;bos&gt;, i, have, orders, to, kill, her, ., &lt;eos&gt;]</td>\n      <td>[&lt;bos&gt;, i, 've, got, orders, to, put, her, dow...</td>\n    </tr>\n    <tr>\n      <th>5</th>\n      <td>[&lt;bos&gt;, i, 'm, not, gon, na, have, a, child, ....</td>\n      <td>[&lt;bos&gt;, i, 'm, not, going, to, breed, kids, wi...</td>\n    </tr>\n    <tr>\n      <th>10</th>\n      <td>[&lt;bos&gt;, you, 'd, probably, want, me, to, buy, ...</td>\n      <td>[&lt;bos&gt;, i, suppose, you, want, me, to, buy, yo...</td>\n    </tr>\n    <tr>\n      <th>...</th>\n      <td>...</td>\n      <td>...</td>\n    </tr>\n    <tr>\n      <th>577759</th>\n      <td>[&lt;bos&gt;, you, 're, good, ,, just, a, little, im...</td>\n      <td>[&lt;bos&gt;, they, 're, okay, ,, just, a, little, i...</td>\n    </tr>\n    <tr>\n      <th>577764</th>\n      <td>[&lt;bos&gt;, execute, him, ,, chief, ., &lt;eos&gt;]</td>\n      <td>[&lt;bos&gt;, carry, on, ,, chief, ., &lt;eos&gt;]</td>\n    </tr>\n    <tr>\n      <th>577770</th>\n      <td>[&lt;bos&gt;, i, am, so, crazy, nuts, about, you, gu...</td>\n      <td>[&lt;bos&gt;, i, 'm, so, crazy, about, you, guys, .,...</td>\n    </tr>\n    <tr>\n      <th>577772</th>\n      <td>[&lt;bos&gt;, you, did, n't, know, that, estelle, st...</td>\n      <td>[&lt;bos&gt;, you, did, n't, know, that, estelle, ha...</td>\n    </tr>\n    <tr>\n      <th>577776</th>\n      <td>[&lt;bos&gt;, i, did, n't, fuck, him, ., &lt;eos&gt;]</td>\n      <td>[&lt;bos&gt;, i, did, not, screw, him, ., &lt;eos&gt;]</td>\n    </tr>\n  </tbody>\n</table>\n<p>265074 rows × 2 columns</p>\n</div>"
     },
     "metadata": {}
    }
   ]
  },
  {
   "cell_type": "markdown",
   "source": "### Finding maximal number of tokens in translation and reference",
   "metadata": {}
  },
  {
   "cell_type": "code",
   "source": "print(\"Maximal length of translation:\", len(max(tokenized['translation'], key=len)))\nprint(\"Maximal length of reference:\", len(max(tokenized['reference'], key=len)))",
   "metadata": {
    "execution": {
     "iopub.status.busy": "2023-11-05T16:44:14.160416Z",
     "iopub.execute_input": "2023-11-05T16:44:14.160758Z",
     "iopub.status.idle": "2023-11-05T16:44:14.273357Z",
     "shell.execute_reply.started": "2023-11-05T16:44:14.160730Z",
     "shell.execute_reply": "2023-11-05T16:44:14.272335Z"
    },
    "trusted": true
   },
   "execution_count": 92,
   "outputs": [
    {
     "name": "stdout",
     "text": "Maximal length of translation: 52\nMaximal length of reference: 52\n",
     "output_type": "stream"
    }
   ]
  },
  {
   "cell_type": "code",
   "source": "max_size = len(max(tokenized['reference'], key=len))",
   "metadata": {
    "execution": {
     "iopub.status.busy": "2023-11-05T16:44:14.274802Z",
     "iopub.execute_input": "2023-11-05T16:44:14.275185Z",
     "iopub.status.idle": "2023-11-05T16:44:14.338654Z",
     "shell.execute_reply.started": "2023-11-05T16:44:14.275149Z",
     "shell.execute_reply": "2023-11-05T16:44:14.337760Z"
    },
    "trusted": true
   },
   "execution_count": 93,
   "outputs": []
  },
  {
   "cell_type": "code",
   "source": "def collate_batch(batch: list):\n    sentences_batch, postags_batch = [], []\n    for _ref, _trans in batch:\n        if len(_ref) > max_size:\n            _ref = _ref[:max_size]\n        else:\n            _ref =  _ref + [PAD_IDX] * (max_size - len(_ref))\n        if len(_trans) > max_size:\n            _trans = _trans[:max_size]\n        else:\n            _trans =  _trans + [PAD_IDX] * (max_size - len(_trans))\n        sentences_batch.append(_ref)\n        postags_batch.append(_trans)\n        \n    return torch.t(torch.tensor(sentences_batch)).to(device), torch.t(torch.tensor(postags_batch)).to(device)",
   "metadata": {
    "execution": {
     "iopub.status.busy": "2023-11-05T16:44:14.339702Z",
     "iopub.execute_input": "2023-11-05T16:44:14.339938Z",
     "iopub.status.idle": "2023-11-05T16:44:14.351130Z",
     "shell.execute_reply.started": "2023-11-05T16:44:14.339917Z",
     "shell.execute_reply": "2023-11-05T16:44:14.350303Z"
    },
    "trusted": true
   },
   "execution_count": 94,
   "outputs": []
  },
  {
   "cell_type": "code",
   "source": "def set_seeds(seed):\n    random.seed(seed)\n    np.random.seed(seed)\n    torch.manual_seed(seed)\n    torch.cuda.manual_seed(seed)\n    torch.backends.cudnn.deterministic = True\n    torch.backends.cudnn.benchmark = False",
   "metadata": {
    "execution": {
     "iopub.status.busy": "2023-11-05T16:44:14.354869Z",
     "iopub.execute_input": "2023-11-05T16:44:14.355147Z",
     "iopub.status.idle": "2023-11-05T16:44:14.361374Z",
     "shell.execute_reply.started": "2023-11-05T16:44:14.355123Z",
     "shell.execute_reply": "2023-11-05T16:44:14.360497Z"
    },
    "trusted": true
   },
   "execution_count": 95,
   "outputs": []
  },
  {
   "cell_type": "code",
   "source": "seed = 123\nset_seeds(seed)\nVALIDATION_RATIO = 0.2\ntrain_dataframe, val_dataframe = train_test_split(df, test_size=VALIDATION_RATIO, random_state=seed)",
   "metadata": {
    "execution": {
     "iopub.status.busy": "2023-11-05T16:44:14.362384Z",
     "iopub.execute_input": "2023-11-05T16:44:14.362652Z",
     "iopub.status.idle": "2023-11-05T16:44:14.410798Z",
     "shell.execute_reply.started": "2023-11-05T16:44:14.362629Z",
     "shell.execute_reply": "2023-11-05T16:44:14.409996Z"
    },
    "trusted": true
   },
   "execution_count": 96,
   "outputs": []
  },
  {
   "cell_type": "code",
   "source": "train_dataframe",
   "metadata": {
    "execution": {
     "iopub.status.busy": "2023-11-05T16:44:14.411842Z",
     "iopub.execute_input": "2023-11-05T16:44:14.412102Z",
     "iopub.status.idle": "2023-11-05T16:44:14.423178Z",
     "shell.execute_reply.started": "2023-11-05T16:44:14.412078Z",
     "shell.execute_reply": "2023-11-05T16:44:14.422272Z"
    },
    "trusted": true
   },
   "execution_count": 97,
   "outputs": [
    {
     "execution_count": 97,
     "output_type": "execute_result",
     "data": {
      "text/plain": "                                                reference  \\\n115257                                   Oh, hello, liar.   \n101019                     This is a great fucking party!   \n295992                      \"we have to kill,\" said Kemp.   \n400543           you have no right to be killed, Francis!   \n294380  in fact, I was going to tell you to explore it...   \n...                                                   ...   \n423806            If he weren't a murderer, I'd hire him.   \n419997  but 90% of those convicted for drugs are still...   \n38573               Grayson, why you always talking shit?   \n61029                     Shut up. I will tell you later.   \n543261  I was thinkin', after I turn your ass in and c...   \n\n                                              translation  \n115257                                hello, lieutenants.  \n101019                         this is a hell of a party!  \n295992         \"It is killing we must do,\" repeated Kemp.  \n400543  You have no right to terminate yourself, Francis!  \n294380  I actually was gonna tell you to just dial it ...  \n...                                                   ...  \n423806    if he hadn't been a killer, I'd have hired him.  \n419997  But 90% of those convicted on drug charges are...  \n38573                       why do you always talk dirty?  \n61029                                I'll tell you later.  \n543261  I've been thinking that when I give you up and...  \n\n[212059 rows x 2 columns]",
      "text/html": "<div>\n<style scoped>\n    .dataframe tbody tr th:only-of-type {\n        vertical-align: middle;\n    }\n\n    .dataframe tbody tr th {\n        vertical-align: top;\n    }\n\n    .dataframe thead th {\n        text-align: right;\n    }\n</style>\n<table border=\"1\" class=\"dataframe\">\n  <thead>\n    <tr style=\"text-align: right;\">\n      <th></th>\n      <th>reference</th>\n      <th>translation</th>\n    </tr>\n  </thead>\n  <tbody>\n    <tr>\n      <th>115257</th>\n      <td>Oh, hello, liar.</td>\n      <td>hello, lieutenants.</td>\n    </tr>\n    <tr>\n      <th>101019</th>\n      <td>This is a great fucking party!</td>\n      <td>this is a hell of a party!</td>\n    </tr>\n    <tr>\n      <th>295992</th>\n      <td>\"we have to kill,\" said Kemp.</td>\n      <td>\"It is killing we must do,\" repeated Kemp.</td>\n    </tr>\n    <tr>\n      <th>400543</th>\n      <td>you have no right to be killed, Francis!</td>\n      <td>You have no right to terminate yourself, Francis!</td>\n    </tr>\n    <tr>\n      <th>294380</th>\n      <td>in fact, I was going to tell you to explore it...</td>\n      <td>I actually was gonna tell you to just dial it ...</td>\n    </tr>\n    <tr>\n      <th>...</th>\n      <td>...</td>\n      <td>...</td>\n    </tr>\n    <tr>\n      <th>423806</th>\n      <td>If he weren't a murderer, I'd hire him.</td>\n      <td>if he hadn't been a killer, I'd have hired him.</td>\n    </tr>\n    <tr>\n      <th>419997</th>\n      <td>but 90% of those convicted for drugs are still...</td>\n      <td>But 90% of those convicted on drug charges are...</td>\n    </tr>\n    <tr>\n      <th>38573</th>\n      <td>Grayson, why you always talking shit?</td>\n      <td>why do you always talk dirty?</td>\n    </tr>\n    <tr>\n      <th>61029</th>\n      <td>Shut up. I will tell you later.</td>\n      <td>I'll tell you later.</td>\n    </tr>\n    <tr>\n      <th>543261</th>\n      <td>I was thinkin', after I turn your ass in and c...</td>\n      <td>I've been thinking that when I give you up and...</td>\n    </tr>\n  </tbody>\n</table>\n<p>212059 rows × 2 columns</p>\n</div>"
     },
     "metadata": {}
    }
   ]
  },
  {
   "cell_type": "code",
   "source": "class CustomDataset(torch.utils.data.Dataset):\n    def __init__(self, dataframe: pd.DataFrame, vocab = None, max_size=100):\n        self.df = dataframe\n        self._preprocess()\n        self.vocab = vocab or self._create_vocab()\n\n    def _preprocess(self):\n        self.tokenized = self.df.copy()\n        self.tokenized['reference'] = self.df['reference'].apply(self._preprocess_text)\n        self.reference = self.tokenized['reference'].to_list()\n        if 'translation' in self.df.columns:\n            self.tokenized['translation'] = self.df['translation'].apply(self._preprocess_text)\n            self.translation = self.tokenized['translation'].to_list()\n    \n    def _preprocess_text(self, text: str) -> list[str]: # function for preprocessing dataframe\n        text = text.lower()\n        tokenized = word_tokenize(text, language='english')\n        tokenized.insert(0, '<bos>')\n        tokenized.append('<eos>')\n        return tokenized\n    \n    def _create_vocab(self):\n        # creates vocabulary that is used for encoding \n        # the sequence of tokens (splitted sentence)\n        vocab = build_vocab_from_iterator(self.reference + self.translation, min_freq=2, specials=special_symbols)\n        vocab.set_default_index(UNK_IDX)\n        return vocab\n\n    def _get_reference(self, index: int) -> list:\n        # retrieves sentence from dataset by index\n        sent = self.reference[index]\n        return self.vocab(sent)\n\n    def _get_translation(self, index: int) -> list:\n        # retrieves tags from dataset by index\n        trans = self.translation[index]\n        return self.vocab(trans)\n\n    def __getitem__(self, index) -> tuple[list, list]:\n        if 'translation' in self.df.columns:\n            return self._get_reference(index), self._get_translation(index)\n        return self._get_reference(index)\n    \n    def __len__(self) -> int:\n        return len(self.reference)",
   "metadata": {
    "execution": {
     "iopub.status.busy": "2023-11-05T16:44:14.424355Z",
     "iopub.execute_input": "2023-11-05T16:44:14.424643Z",
     "iopub.status.idle": "2023-11-05T16:44:14.436960Z",
     "shell.execute_reply.started": "2023-11-05T16:44:14.424619Z",
     "shell.execute_reply": "2023-11-05T16:44:14.436195Z"
    },
    "trusted": true
   },
   "execution_count": 98,
   "outputs": []
  },
  {
   "cell_type": "code",
   "source": "train_dataset = CustomDataset(train_dataframe)\nval_dataset = CustomDataset(val_dataframe, vocab=train_dataset.vocab)",
   "metadata": {
    "execution": {
     "iopub.status.busy": "2023-11-05T16:44:14.438092Z",
     "iopub.execute_input": "2023-11-05T16:44:14.438378Z",
     "iopub.status.idle": "2023-11-05T16:45:48.213550Z",
     "shell.execute_reply.started": "2023-11-05T16:44:14.438354Z",
     "shell.execute_reply": "2023-11-05T16:45:48.212677Z"
    },
    "trusted": true
   },
   "execution_count": 99,
   "outputs": []
  },
  {
   "cell_type": "code",
   "source": "batch_size = 16\ntrain_dataloader = torch.utils.data.DataLoader(\n    train_dataset, batch_size=batch_size, shuffle=True, collate_fn=collate_batch\n)\nval_dataloader = torch.utils.data.DataLoader(\n    val_dataset, batch_size=batch_size, shuffle=True, collate_fn=collate_batch\n)",
   "metadata": {
    "execution": {
     "iopub.status.busy": "2023-11-05T16:45:48.214800Z",
     "iopub.execute_input": "2023-11-05T16:45:48.215115Z",
     "iopub.status.idle": "2023-11-05T16:45:48.465391Z",
     "shell.execute_reply.started": "2023-11-05T16:45:48.215088Z",
     "shell.execute_reply": "2023-11-05T16:45:48.464149Z"
    },
    "trusted": true
   },
   "execution_count": 100,
   "outputs": []
  },
  {
   "cell_type": "code",
   "source": "class Transformer(nn.Module):\n    def __init__(\n        self,\n        embedding_size,\n        vocab_size,\n        src_pad_idx,\n        num_heads,\n        num_encoder_layers,\n        num_decoder_layers,\n        forward_expansion,\n        dropout,\n        max_len,\n        device,\n    ):\n        super(Transformer, self).__init__()\n        self.word_embedding = nn.Embedding(vocab_size, embedding_size)\n        self.position_embedding = nn.Embedding(max_len, embedding_size)\n        self.device = device\n        self.transformer = nn.Transformer(\n            embedding_size,\n            num_heads,\n            num_encoder_layers,\n            num_decoder_layers,\n            forward_expansion,\n            dropout,\n        )\n        \n        self.fc_out = nn.Linear(embedding_size, vocab_size)\n        self.dropout = nn.Dropout(dropout)\n        self.src_pad_idx = src_pad_idx\n        \n    def make_src_mask(self, src):\n        src_mask = src.transpose(0, 1) == self.src_pad_idx\n        return src_mask\n    \n    def forward(self, src, trg):\n        src_seq_length, N = src.shape\n        trg_seq_length, N = trg.shape\n        \n        src_position = (\n            torch.arange(0, src_seq_length).unsqueeze(1).expand(src_seq_length, N)\n            .to(self.device)\n        )\n        \n        trg_position = (\n            torch.arange(0, trg_seq_length).unsqueeze(1).expand(trg_seq_length, N)\n            .to(self.device)\n        )\n        \n        embeded_src = self.dropout(\n            (self.word_embedding(src) + self.position_embedding(src_position))\n        )\n        \n        embeded_trg = self.dropout(\n            (self.word_embedding(trg) + self.position_embedding(trg_position))\n        )\n        \n        src_padding_mask = self.make_src_mask(src)\n        \n        trg_mask = self.transformer.generate_square_subsequent_mask(trg_seq_length).to(self.device)\n        \n        out = self.transformer(\n            embeded_src,\n            embeded_trg,\n            src_key_padding_mask=src_padding_mask,\n            tgt_mask=trg_mask\n        )\n        \n        out = self.fc_out(out)\n        return out",
   "metadata": {
    "execution": {
     "iopub.status.busy": "2023-11-05T16:45:48.466591Z",
     "iopub.execute_input": "2023-11-05T16:45:48.466863Z",
     "iopub.status.idle": "2023-11-05T16:45:48.483901Z",
     "shell.execute_reply.started": "2023-11-05T16:45:48.466837Z",
     "shell.execute_reply": "2023-11-05T16:45:48.483069Z"
    },
    "trusted": true
   },
   "execution_count": 101,
   "outputs": []
  },
  {
   "cell_type": "code",
   "source": "device = torch.device(\"cuda\" if torch.cuda.is_available() else \"cpu\")\nload_model = False\nsave_model = True",
   "metadata": {
    "execution": {
     "iopub.status.busy": "2023-11-05T16:45:48.484955Z",
     "iopub.execute_input": "2023-11-05T16:45:48.485221Z",
     "iopub.status.idle": "2023-11-05T16:45:48.497695Z",
     "shell.execute_reply.started": "2023-11-05T16:45:48.485196Z",
     "shell.execute_reply": "2023-11-05T16:45:48.496832Z"
    },
    "trusted": true
   },
   "execution_count": 102,
   "outputs": []
  },
  {
   "cell_type": "code",
   "source": "num_epochs = 5\nlearning_rate = 3e-4",
   "metadata": {
    "execution": {
     "iopub.status.busy": "2023-11-05T16:45:48.498653Z",
     "iopub.execute_input": "2023-11-05T16:45:48.498888Z",
     "iopub.status.idle": "2023-11-05T16:45:48.508282Z",
     "shell.execute_reply.started": "2023-11-05T16:45:48.498866Z",
     "shell.execute_reply": "2023-11-05T16:45:48.507523Z"
    },
    "trusted": true
   },
   "execution_count": 103,
   "outputs": []
  },
  {
   "cell_type": "code",
   "source": "writer = SummaryWriter(\"runs/loss_plot\")\nstep = 0",
   "metadata": {
    "execution": {
     "iopub.status.busy": "2023-11-05T16:45:48.509355Z",
     "iopub.execute_input": "2023-11-05T16:45:48.509628Z",
     "iopub.status.idle": "2023-11-05T16:45:48.549817Z",
     "shell.execute_reply.started": "2023-11-05T16:45:48.509604Z",
     "shell.execute_reply": "2023-11-05T16:45:48.549046Z"
    },
    "trusted": true
   },
   "execution_count": 104,
   "outputs": []
  },
  {
   "cell_type": "code",
   "source": "train_losses = []",
   "metadata": {
    "execution": {
     "iopub.status.busy": "2023-11-05T16:45:48.550797Z",
     "iopub.execute_input": "2023-11-05T16:45:48.551075Z",
     "iopub.status.idle": "2023-11-05T16:46:06.214961Z",
     "shell.execute_reply.started": "2023-11-05T16:45:48.551050Z",
     "shell.execute_reply": "2023-11-05T16:46:06.213919Z"
    },
    "trusted": true
   },
   "execution_count": 105,
   "outputs": []
  },
  {
   "cell_type": "markdown",
   "source": "# Reference for these functions was taken from this $\\href{https://github.com/aladdinpersson/Machine-Learning-Collection/blob/master/ML/Pytorch/more_advanced/seq2seq_transformer/utils.py}{github}$ related to this $\\href{https://www.youtube.com/watch?v=M6adRGJe5cQ}{video}$",
   "metadata": {}
  },
  {
   "cell_type": "code",
   "source": "def translate_sentence(model, sentence, vocab, device, max_length=52):\n    model.eval()\n    # Create tokens using spacy and everything in lower case (which is what our vocab is)\n    if type(sentence) == str:\n        tokens = [token.lower() for token in word_tokenize(sentence, language='english')]\n        # Add <SOS> and <EOS> in beginning and end respectively\n        tokens.insert(0, '<bos>')\n        tokens.append('<eos>')\n        # Go through each token and convert to an index\n        text_to_indices = vocab(tokens) \n    elif sentence[0] == str:\n        tokens = [token.lower() for token in sentence]\n        text_to_indices = vocab(tokens) \n    else:\n        text_to_indices = sentence\n\n    \n\n    # Convert to Tensor\n    sentence_tensor = torch.LongTensor(text_to_indices).unsqueeze(1).to(device)\n#     print(sentence_tensor)\n    outputs = [vocab.get_stoi()[\"<bos>\"]]\n    for i in range(max_length):\n        trg_tensor = torch.LongTensor(outputs).unsqueeze(1).to(device)\n\n        with torch.no_grad():\n            output = model(sentence_tensor, trg_tensor)\n#         print(output)\n            \n        best_guess = output.argmax(2)[-1, :].item()\n#         print(output.shape)\n#         print(output.argmax(2))\n        outputs.append(best_guess)\n\n        if best_guess == vocab.get_stoi()[\"<eos>\"]:\n            break\n\n    translated_sentence = [vocab.get_itos()[idx] for idx in outputs]\n    # remove start token\n    return translated_sentence[1:]\n\n\ndef bleu(data, model, vocab, device):\n    targets = []\n    outputs = []\n\n    for example in data:\n        src = example[0]\n        trg = example[1]\n\n        prediction = translate_sentence(model, src, vocab, device)\n        prediction = prediction[:-1]  # remove <eos> token\n\n        targets.append(vocab.lookup_tokens(trg))\n        outputs.append(prediction)\n\n    return bleu_score(outputs, targets)\n\n\ndef save_checkpoint(state, filename=\"my_checkpoint.pth.tar\"):\n    print(\"=> Saving checkpoint\")\n    torch.save(state, filename)\n\n\ndef load_checkpoint(checkpoint, model, optimizer):\n    print(\"=> Loading checkpoint\")\n    model.load_state_dict(checkpoint[\"state_dict\"])\n    optimizer.load_state_dict(checkpoint[\"optimizer\"])",
   "metadata": {
    "execution": {
     "iopub.status.busy": "2023-11-05T16:46:06.216820Z",
     "iopub.execute_input": "2023-11-05T16:46:06.217165Z",
     "iopub.status.idle": "2023-11-05T16:46:06.230258Z",
     "shell.execute_reply.started": "2023-11-05T16:46:06.217138Z",
     "shell.execute_reply": "2023-11-05T16:46:06.229304Z"
    },
    "trusted": true
   },
   "execution_count": 106,
   "outputs": []
  },
  {
   "cell_type": "code",
   "source": "vocab = train_dataset.vocab\nvocab_size = len(vocab)\nembedding_size = 96\nnum_heads = 4\nnum_encoder_layers=3\nnum_decoder_layers=3\ndropout=0.10\nmax_len=52\nforward_expansion = 2048\nsrc_pad_idx = vocab.get_stoi()[\"<pad>\"]",
   "metadata": {
    "execution": {
     "iopub.status.busy": "2023-11-05T16:46:06.231251Z",
     "iopub.execute_input": "2023-11-05T16:46:06.231578Z",
     "iopub.status.idle": "2023-11-05T16:46:06.278180Z",
     "shell.execute_reply.started": "2023-11-05T16:46:06.231552Z",
     "shell.execute_reply": "2023-11-05T16:46:06.277221Z"
    },
    "trusted": true
   },
   "execution_count": 107,
   "outputs": []
  },
  {
   "cell_type": "code",
   "source": "model = Transformer(\n    embedding_size,\n    vocab_size,\n    src_pad_idx,\n    num_heads,\n    num_encoder_layers,\n    num_decoder_layers,\n    forward_expansion,\n    dropout,\n    max_len,\n    device\n).to(device)\n\noptimizer = optim.Adam(model.parameters(), lr=learning_rate)\n\nloss_fn = nn.CrossEntropyLoss(ignore_index = src_pad_idx)\n\nif load_model:\n    load_checkpoint(torch.load(\"my_checkpoint.pth.ptar\"), model, optimizer)",
   "metadata": {
    "execution": {
     "iopub.status.busy": "2023-11-05T16:46:06.279500Z",
     "iopub.execute_input": "2023-11-05T16:46:06.279790Z",
     "iopub.status.idle": "2023-11-05T16:46:06.395740Z",
     "shell.execute_reply.started": "2023-11-05T16:46:06.279765Z",
     "shell.execute_reply": "2023-11-05T16:46:06.394826Z"
    },
    "trusted": true
   },
   "execution_count": 108,
   "outputs": []
  },
  {
   "cell_type": "code",
   "source": "val_losses = []\nval_bleus = []",
   "metadata": {
    "execution": {
     "iopub.status.busy": "2023-11-05T16:46:06.396774Z",
     "iopub.execute_input": "2023-11-05T16:46:06.397037Z",
     "iopub.status.idle": "2023-11-05T16:46:06.401440Z",
     "shell.execute_reply.started": "2023-11-05T16:46:06.397005Z",
     "shell.execute_reply": "2023-11-05T16:46:06.400498Z"
    },
    "trusted": true
   },
   "execution_count": 109,
   "outputs": []
  },
  {
   "cell_type": "code",
   "source": "def train_one_epoch(\n    model,\n    loader,\n    optimizer,\n    loss_fn,\n    epoch_num=-1\n):\n    loop = tqdm(\n        enumerate(loader, 1),\n        total=len(loader),\n        desc=f\"Epoch {epoch}: train\",\n        leave=True,\n    )\n    model.train()\n\n    train_loss = 0.0\n    total = 0\n    for i, batch in loop:\n        ref, trans = batch\n        \n        optimizer.zero_grad()\n        \n        ref, trans = ref.to(device), trans.to(device)\n        outputs = model(ref, trans).to(device)\n        outputs = outputs.reshape(-1, outputs.shape[2])\n        trans = trans.reshape(-1)\n        \n        loss = loss_fn(outputs, trans)\n        loss.backward()\n        \n        torch.nn.utils.clip_grad_norm_(model.parameters(), max_norm=1)\n        # optimizer run\n        optimizer.step()\n        total += trans.size(0)\n        train_loss += loss / total\n        \n        loop.set_postfix({\"loss\": train_loss})\n    \n    train_losses.append(train_loss)\n\ndef val_one_epoch(\n    model,\n    loader,\n    loss_fn,\n    epoch_num=-1,\n    best_so_far=0.0,\n    ckpt_path='best.pt'\n):\n    \n    loop = tqdm(\n        enumerate(loader, 1),\n        total=len(loader),\n        desc=f\"Epoch {epoch}: val\",\n        leave=True,\n    )\n    refs = []\n    transs = []\n    val_loss = 0.0\n    total = 0\n    with torch.no_grad():\n        model.eval()  # evaluation mode\n        for i, batch in loop:\n            ref, trans = batch\n            \n            ref_sents = ref.t().tolist()\n            trans_sents = trans.t().tolist()\n            refs.extend(ref_sents)\n            transs.extend(trans_sents)\n            \n            # forward pass\n            outputs = model(ref, trans).to(device)\n#             print(outputs.shape)\n#             print(outputs[:, 0, :].argmax(1))\n#             print(trans[:, 0])\n            outputs = outputs.reshape(-1, outputs.shape[2])\n            trans = trans.reshape(-1)\n            # loss calculation\n            loss = loss_fn(outputs, trans)\n            \n            torch.nn.utils.clip_grad_norm_(model.parameters(), max_norm=1)\n            \n            total += trans.size(0)\n\n            val_loss += loss\n            \n            loop.set_postfix({\"loss\": val_loss/total})\n        \n        if val_loss < best_so_far:\n            torch.save(model.state_dict(), ckpt_path)\n    val_losses.append(val_loss/total)\n    val_bleu = bleu(zip(refs[:10], transs[:10]), model, vocab, device)\n    print(\"Bleu: \", val_bleu)\n    print()\n    val_bleus.append(val_bleu)\n    print(\"Reference: \", vocab.lookup_tokens(refs[0]))\n    print()\n    print(\"Translation: \", vocab.lookup_tokens(transs[0]))\n    print()\n    print(\"Prediction: \", translate_sentence(model, refs[0], vocab, device, max_length=52))",
   "metadata": {
    "execution": {
     "iopub.status.busy": "2023-11-05T16:46:06.402471Z",
     "iopub.execute_input": "2023-11-05T16:46:06.402765Z",
     "iopub.status.idle": "2023-11-05T16:46:06.419116Z",
     "shell.execute_reply.started": "2023-11-05T16:46:06.402731Z",
     "shell.execute_reply": "2023-11-05T16:46:06.418258Z"
    },
    "trusted": true
   },
   "execution_count": 110,
   "outputs": []
  },
  {
   "cell_type": "code",
   "source": "best = float('inf')\nnum_epochs = 5\nfor epoch in range(num_epochs):\n    train_one_epoch(model, train_dataloader, optimizer, loss_fn, epoch_num=epoch)\n    val_one_epoch(model, val_dataloader, loss_fn, epoch, best_so_far=best)",
   "metadata": {
    "execution": {
     "iopub.status.busy": "2023-11-05T16:46:06.420125Z",
     "iopub.execute_input": "2023-11-05T16:46:06.420380Z",
     "iopub.status.idle": "2023-11-05T17:29:39.457982Z",
     "shell.execute_reply.started": "2023-11-05T16:46:06.420356Z",
     "shell.execute_reply": "2023-11-05T17:29:39.456941Z"
    },
    "trusted": true
   },
   "execution_count": 111,
   "outputs": [
    {
     "output_type": "display_data",
     "data": {
      "text/plain": "Epoch 0: train:   0%|          | 0/13254 [00:00<?, ?it/s]",
      "application/vnd.jupyter.widget-view+json": {
       "version_major": 2,
       "version_minor": 0,
       "model_id": "a7b0d43cad404da29c71f840757c8069"
      }
     },
     "metadata": {}
    },
    {
     "output_type": "display_data",
     "data": {
      "text/plain": "Epoch 0: val:   0%|          | 0/3314 [00:00<?, ?it/s]",
      "application/vnd.jupyter.widget-view+json": {
       "version_major": 2,
       "version_minor": 0,
       "model_id": "5b6a32a871a343c68f98cea863af4443"
      }
     },
     "metadata": {}
    },
    {
     "name": "stdout",
     "text": "Bleu:  0.0\n\nReference:  ['<bos>', 'look', '...', '...', 'i', \"'m\", 'not', 'some', 'lousy', 'street', 'asshole', '.', '<eos>', '<pad>', '<pad>', '<pad>', '<pad>', '<pad>', '<pad>', '<pad>', '<pad>', '<pad>', '<pad>', '<pad>', '<pad>', '<pad>', '<pad>', '<pad>', '<pad>', '<pad>', '<pad>', '<pad>', '<pad>', '<pad>', '<pad>', '<pad>', '<pad>', '<pad>', '<pad>', '<pad>', '<pad>', '<pad>', '<pad>', '<pad>', '<pad>', '<pad>', '<pad>', '<pad>', '<pad>', '<pad>', '<pad>', '<pad>']\n\nTranslation:  ['<bos>', 'look', '...', '...', 'i', \"'m\", 'not', 'some', 'dimebag', 'street', 'punk', '.', '<eos>', '<pad>', '<pad>', '<pad>', '<pad>', '<pad>', '<pad>', '<pad>', '<pad>', '<pad>', '<pad>', '<pad>', '<pad>', '<pad>', '<pad>', '<pad>', '<pad>', '<pad>', '<pad>', '<pad>', '<pad>', '<pad>', '<pad>', '<pad>', '<pad>', '<pad>', '<pad>', '<pad>', '<pad>', '<pad>', '<pad>', '<pad>', '<pad>', '<pad>', '<pad>', '<pad>', '<pad>', '<pad>', '<pad>', '<pad>']\n\nPrediction:  ['<bos>', 'stay', 'stay', 'stay', 'stay', 'stay', 'stay', 'stay', 'stay', 'stay', 'stay', 'stay', 'stay', 'stay', 'stay', 'stay', 'stay', 'stay', 'stay', 'stay', 'stay', 'stay', 'stay', 'stay', 'stay', 'stay', 'stay', 'stay', 'stay', 'stay', 'stay', 'stay', 'stay', 'stay', 'stay', 'stay', 'stay', 'stay', 'stay', 'stay', 'stay', 'stay', 'stay', 'stay', 'stay', 'stay', 'stay', 'stay', 'stay', 'stay', 'stay', 'stay']\n",
     "output_type": "stream"
    },
    {
     "output_type": "display_data",
     "data": {
      "text/plain": "Epoch 1: train:   0%|          | 0/13254 [00:00<?, ?it/s]",
      "application/vnd.jupyter.widget-view+json": {
       "version_major": 2,
       "version_minor": 0,
       "model_id": "06f0939c65cb4ba68d139add8d2d263b"
      }
     },
     "metadata": {}
    },
    {
     "output_type": "display_data",
     "data": {
      "text/plain": "Epoch 1: val:   0%|          | 0/3314 [00:00<?, ?it/s]",
      "application/vnd.jupyter.widget-view+json": {
       "version_major": 2,
       "version_minor": 0,
       "model_id": "da122d9e26744d81a6165fad43ebf4fd"
      }
     },
     "metadata": {}
    },
    {
     "name": "stdout",
     "text": "Bleu:  0.0\n\nReference:  ['<bos>', 'disgusting', '.', '<eos>', '<pad>', '<pad>', '<pad>', '<pad>', '<pad>', '<pad>', '<pad>', '<pad>', '<pad>', '<pad>', '<pad>', '<pad>', '<pad>', '<pad>', '<pad>', '<pad>', '<pad>', '<pad>', '<pad>', '<pad>', '<pad>', '<pad>', '<pad>', '<pad>', '<pad>', '<pad>', '<pad>', '<pad>', '<pad>', '<pad>', '<pad>', '<pad>', '<pad>', '<pad>', '<pad>', '<pad>', '<pad>', '<pad>', '<pad>', '<pad>', '<pad>', '<pad>', '<pad>', '<pad>', '<pad>', '<pad>', '<pad>', '<pad>']\n\nTranslation:  ['<bos>', 'revolting', '.', '<eos>', '<pad>', '<pad>', '<pad>', '<pad>', '<pad>', '<pad>', '<pad>', '<pad>', '<pad>', '<pad>', '<pad>', '<pad>', '<pad>', '<pad>', '<pad>', '<pad>', '<pad>', '<pad>', '<pad>', '<pad>', '<pad>', '<pad>', '<pad>', '<pad>', '<pad>', '<pad>', '<pad>', '<pad>', '<pad>', '<pad>', '<pad>', '<pad>', '<pad>', '<pad>', '<pad>', '<pad>', '<pad>', '<pad>', '<pad>', '<pad>', '<pad>', '<pad>', '<pad>', '<pad>', '<pad>', '<pad>', '<pad>', '<pad>']\n\nPrediction:  ['<bos>', 'stay', 'stay', 'stay', 'stay', 'stay', 'stay', 'stay', 'stay', 'stay', 'stay', 'stay', 'stay', 'stay', 'stay', 'stay', 'stay', 'stay', 'stay', 'stay', 'stay', 'stay', 'stay', 'stay', 'stay', 'stay', 'stay', 'stay', 'stay', 'stay', 'stay', 'stay', 'stay', 'stay', 'stay', 'stay', 'stay', 'stay', 'stay', 'stay', 'stay', 'stay', 'stay', 'stay', 'stay', 'stay', 'stay', 'stay', 'stay', 'stay', 'stay', 'stay']\n",
     "output_type": "stream"
    },
    {
     "output_type": "display_data",
     "data": {
      "text/plain": "Epoch 2: train:   0%|          | 0/13254 [00:00<?, ?it/s]",
      "application/vnd.jupyter.widget-view+json": {
       "version_major": 2,
       "version_minor": 0,
       "model_id": "d86983748f4949088936ba07b4e03a47"
      }
     },
     "metadata": {}
    },
    {
     "output_type": "display_data",
     "data": {
      "text/plain": "Epoch 2: val:   0%|          | 0/3314 [00:00<?, ?it/s]",
      "application/vnd.jupyter.widget-view+json": {
       "version_major": 2,
       "version_minor": 0,
       "model_id": "53ea9136e91e4b248cfa887e3f70b280"
      }
     },
     "metadata": {}
    },
    {
     "name": "stdout",
     "text": "Bleu:  0.0\n\nReference:  ['<bos>', 'how', 'fucking', 'old', 'are', 'you', '?', 'we', 'got', 'to', 'find', 'frank', 'or', 'they', \"'re\", 'gon', 'na', 'put', 'liam', 'into', 'foster', 'care', '.', '<eos>', '<pad>', '<pad>', '<pad>', '<pad>', '<pad>', '<pad>', '<pad>', '<pad>', '<pad>', '<pad>', '<pad>', '<pad>', '<pad>', '<pad>', '<pad>', '<pad>', '<pad>', '<pad>', '<pad>', '<pad>', '<pad>', '<pad>', '<pad>', '<pad>', '<pad>', '<pad>', '<pad>', '<pad>']\n\nTranslation:  ['<bos>', 'we', 'have', 'to', 'find', 'frank', ',', 'or', 'they', 'will', 'give', 'liam', 'to', 'foster', 'care', '.', '<eos>', '<pad>', '<pad>', '<pad>', '<pad>', '<pad>', '<pad>', '<pad>', '<pad>', '<pad>', '<pad>', '<pad>', '<pad>', '<pad>', '<pad>', '<pad>', '<pad>', '<pad>', '<pad>', '<pad>', '<pad>', '<pad>', '<pad>', '<pad>', '<pad>', '<pad>', '<pad>', '<pad>', '<pad>', '<pad>', '<pad>', '<pad>', '<pad>', '<pad>', '<pad>', '<pad>']\n\nPrediction:  ['<bos>', 'tearing', 'tearing', 'tearing', 'tearing', 'tearing', 'tearing', 'tearing', 'tearing', 'tearing', 'tearing', 'tearing', 'tearing', 'tearing', 'tearing', 'tearing', 'tearing', 'tearing', 'tearing', 'tearing', 'tearing', 'tearing', 'tearing', 'tearing', 'tearing', 'tearing', 'tearing', 'tearing', 'tearing', 'tearing', 'tearing', 'tearing', 'tearing', 'tearing', 'tearing', 'tearing', 'tearing', 'tearing', 'tearing', 'tearing', 'tearing', 'tearing', 'tearing', 'tearing', 'tearing', 'tearing', 'tearing', 'tearing', 'tearing', 'tearing', 'tearing', 'tearing']\n",
     "output_type": "stream"
    },
    {
     "output_type": "display_data",
     "data": {
      "text/plain": "Epoch 3: train:   0%|          | 0/13254 [00:00<?, ?it/s]",
      "application/vnd.jupyter.widget-view+json": {
       "version_major": 2,
       "version_minor": 0,
       "model_id": "f6054b5b86bc46f09d29647757ca16d7"
      }
     },
     "metadata": {}
    },
    {
     "output_type": "display_data",
     "data": {
      "text/plain": "Epoch 3: val:   0%|          | 0/3314 [00:00<?, ?it/s]",
      "application/vnd.jupyter.widget-view+json": {
       "version_major": 2,
       "version_minor": 0,
       "model_id": "d6821e2218224b1e88fcb68c5b4399ab"
      }
     },
     "metadata": {}
    },
    {
     "name": "stdout",
     "text": "Bleu:  0.0\n\nReference:  ['<bos>', 'when', 'it', \"'s\", 'your', 'turn', 'to', 'use', 'the', 'bathroom', ',', 'you', 'tell', 'aunt', 'wendy', 'to', 'get', 'the', 'fuck', 'out', 'of', 'the', 'bathroom', '.', '<eos>', '<pad>', '<pad>', '<pad>', '<pad>', '<pad>', '<pad>', '<pad>', '<pad>', '<pad>', '<pad>', '<pad>', '<pad>', '<pad>', '<pad>', '<pad>', '<pad>', '<pad>', '<pad>', '<pad>', '<pad>', '<pad>', '<pad>', '<pad>', '<pad>', '<pad>', '<pad>', '<pad>']\n\nTranslation:  ['<bos>', 'if', 'you', \"'re\", 'on', 'a', 'line', 'with', 'the', 'bathroom', ',', 'tell', 'your', 'aunt', 'to', 'get', 'out', 'of', 'there', '!', '<eos>', '<pad>', '<pad>', '<pad>', '<pad>', '<pad>', '<pad>', '<pad>', '<pad>', '<pad>', '<pad>', '<pad>', '<pad>', '<pad>', '<pad>', '<pad>', '<pad>', '<pad>', '<pad>', '<pad>', '<pad>', '<pad>', '<pad>', '<pad>', '<pad>', '<pad>', '<pad>', '<pad>', '<pad>', '<pad>', '<pad>', '<pad>']\n\nPrediction:  ['<bos>', 'those', 'those', 'those', 'those', 'those', 'those', 'those', 'those', 'those', 'those', 'those', 'those', 'those', 'those', 'those', 'those', 'those', 'those', 'those', 'those', 'those', 'those', 'those', 'those', 'those', 'those', 'those', 'those', 'those', 'those', 'those', 'those', 'those', 'those', 'those', 'those', 'those', 'those', 'those', 'those', 'those', 'those', 'those', 'those', 'those', 'those', 'those', 'those', 'those', 'those', 'those']\n",
     "output_type": "stream"
    },
    {
     "output_type": "display_data",
     "data": {
      "text/plain": "Epoch 4: train:   0%|          | 0/13254 [00:00<?, ?it/s]",
      "application/vnd.jupyter.widget-view+json": {
       "version_major": 2,
       "version_minor": 0,
       "model_id": "5a3e6bd0c702420282db7d418c4013f2"
      }
     },
     "metadata": {}
    },
    {
     "output_type": "display_data",
     "data": {
      "text/plain": "Epoch 4: val:   0%|          | 0/3314 [00:00<?, ?it/s]",
      "application/vnd.jupyter.widget-view+json": {
       "version_major": 2,
       "version_minor": 0,
       "model_id": "541f2612ef464d428020974e7b1491b5"
      }
     },
     "metadata": {}
    },
    {
     "name": "stdout",
     "text": "Bleu:  0.0\n\nReference:  ['<bos>', 'you', \"'re\", 'a', 'pariah', '.', '<eos>', '<pad>', '<pad>', '<pad>', '<pad>', '<pad>', '<pad>', '<pad>', '<pad>', '<pad>', '<pad>', '<pad>', '<pad>', '<pad>', '<pad>', '<pad>', '<pad>', '<pad>', '<pad>', '<pad>', '<pad>', '<pad>', '<pad>', '<pad>', '<pad>', '<pad>', '<pad>', '<pad>', '<pad>', '<pad>', '<pad>', '<pad>', '<pad>', '<pad>', '<pad>', '<pad>', '<pad>', '<pad>', '<pad>', '<pad>', '<pad>', '<pad>', '<pad>', '<pad>', '<pad>', '<pad>']\n\nTranslation:  ['<bos>', 'an', 'outcast', '.', '<eos>', '<pad>', '<pad>', '<pad>', '<pad>', '<pad>', '<pad>', '<pad>', '<pad>', '<pad>', '<pad>', '<pad>', '<pad>', '<pad>', '<pad>', '<pad>', '<pad>', '<pad>', '<pad>', '<pad>', '<pad>', '<pad>', '<pad>', '<pad>', '<pad>', '<pad>', '<pad>', '<pad>', '<pad>', '<pad>', '<pad>', '<pad>', '<pad>', '<pad>', '<pad>', '<pad>', '<pad>', '<pad>', '<pad>', '<pad>', '<pad>', '<pad>', '<pad>', '<pad>', '<pad>', '<pad>', '<pad>', '<pad>']\n\nPrediction:  ['<bos>', 'line', 'line', 'line', 'line', 'line', 'line', 'line', 'line', 'line', 'line', 'line', 'line', 'line', 'line', 'line', 'line', 'line', 'line', 'line', 'line', 'line', 'line', 'line', 'line', 'line', 'line', 'line', 'line', 'line', 'line', 'line', 'line', 'line', 'line', 'line', 'line', 'line', 'line', 'line', 'line', 'line', 'line', 'line', 'line', 'line', 'line', 'line', 'line', 'line', 'line', 'line']\n",
     "output_type": "stream"
    }
   ]
  },
  {
   "cell_type": "code",
   "source": "print(val_bleus)",
   "metadata": {
    "execution": {
     "iopub.status.busy": "2023-11-05T17:29:39.459079Z",
     "iopub.execute_input": "2023-11-05T17:29:39.459344Z",
     "iopub.status.idle": "2023-11-05T17:29:39.464331Z",
     "shell.execute_reply.started": "2023-11-05T17:29:39.459319Z",
     "shell.execute_reply": "2023-11-05T17:29:39.463480Z"
    },
    "trusted": true
   },
   "execution_count": 112,
   "outputs": [
    {
     "name": "stdout",
     "text": "[0.0, 0.0, 0.0, 0.0, 0.0]\n",
     "output_type": "stream"
    }
   ]
  },
  {
   "cell_type": "code",
   "source": "def visualize(train_losses, val_losses, val_bleus):\n    train_losses = [loss.detach().cpu() for loss in train_losses]\n    val_losses = [loss.detach().cpu() for loss in val_losses]\n    epochs = [1, 2, 3, 4, 5]\n    fig, axes = plt.subplots(1, 3, figsize=(16, 16))\n    axes[0].plot(epochs, train_losses)\n    axes[1].plot(epochs, val_losses[:5])\n    axes[2].plot(epochs, val_bleus[:5])\n    plt.show()",
   "metadata": {
    "execution": {
     "iopub.status.busy": "2023-11-05T17:29:39.469788Z",
     "iopub.execute_input": "2023-11-05T17:29:39.470549Z",
     "iopub.status.idle": "2023-11-05T17:29:39.477478Z",
     "shell.execute_reply.started": "2023-11-05T17:29:39.470505Z",
     "shell.execute_reply": "2023-11-05T17:29:39.476685Z"
    },
    "trusted": true
   },
   "execution_count": 113,
   "outputs": []
  },
  {
   "cell_type": "code",
   "source": "visualize(train_losses, val_losses, val_bleus)",
   "metadata": {
    "execution": {
     "iopub.status.busy": "2023-11-05T17:29:39.478655Z",
     "iopub.execute_input": "2023-11-05T17:29:39.479279Z",
     "iopub.status.idle": "2023-11-05T17:29:40.096338Z",
     "shell.execute_reply.started": "2023-11-05T17:29:39.479245Z",
     "shell.execute_reply": "2023-11-05T17:29:40.095363Z"
    },
    "trusted": true
   },
   "execution_count": 114,
   "outputs": [
    {
     "output_type": "display_data",
     "data": {
      "text/plain": "<Figure size 1600x1600 with 3 Axes>",
      "image/png": "[encoded data removed]"
     },
     "metadata": {}
    }
   ]
  }
 ]
}
